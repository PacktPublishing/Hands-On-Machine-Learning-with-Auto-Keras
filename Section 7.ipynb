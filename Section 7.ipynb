{
 "cells": [
  {
   "cell_type": "markdown",
   "metadata": {},
   "source": [
    "# 7. Topic classification"
   ]
  },
  {
   "cell_type": "markdown",
   "metadata": {},
   "source": [
    "### 7.2. Using Auto-Keras’ pre-trained model for topic classification"
   ]
  },
  {
   "cell_type": "code",
   "execution_count": 1,
   "metadata": {},
   "outputs": [
    {
     "name": "stdout",
     "output_type": "stream",
     "text": [
      "Better speed can be achieved with apex installed from https://www.github.com/nvidia/apex.\n",
      "Downloading file with Google ID 1U7C3xPid1ZvBKpkfW9KikrmNui0yJqnk into /tmp/autokeras/tc.pth... Download completed.\n",
      "Business Sports Sports\n"
     ]
    }
   ],
   "source": [
    "from autokeras_pretrained.text_classifier import TopicClassifier\n",
    "topic_classifier = TopicClassifier()\n",
    "# text taken from https://techcrunch.com/2019/11/03/spacex-achieves-key-milestone-in-safety-testing-of-crew-dragon-spacecraft/?guccounter=1&guce_referrer_us=aHR0cHM6Ly93d3cuZ29vZ2xlLmNvbS8&guce_referrer_cs=1hiYk4oIiho1oL1M82Ddtg\n",
    "#class_name = topic_classifier.predict(\n",
    "#    \"\"\"\n",
    "#    SpaceX has managed to run 13 successful parachute tests in a row \n",
    "#    of the third major revision of the parachute system it’s \n",
    "#    planning to use for its Crew Dragon spacecraft. \n",
    "#    The most recent test, which SpaceX shared a shorted edited video \n",
    "#    clip of on Twitter, involved using the system with one of the \n",
    "#    parachutes intentionally not deploying, to prove that it can land the\n",
    "#    crew craft safely even in case of a partial failure.\n",
    "#    \"\"\")\n",
    "#print(class_name)\n",
    "\n",
    "should_be_business = topic_classifier.predict(\n",
    "    'The DOW has reached a new low yesterday.')\n",
    "\n",
    "should_be_world = topic_classifier.predict(\n",
    "    'The rebuilding of the Notre Dame will start soon.')\n",
    "\n",
    "should_be_sports = topic_classifier.predict(\n",
    "    'The 2020 soccer world cup is a hard one for experts to predict.')\n",
    "\n",
    "print(should_be_business, should_be_world, should_be_sports)"
   ]
  },
  {
   "cell_type": "markdown",
   "metadata": {},
   "source": [
    "### 7.3. Building our own dataset for use with the pre-trained model"
   ]
  },
  {
   "cell_type": "code",
   "execution_count": 7,
   "metadata": {},
   "outputs": [
    {
     "name": "stdout",
     "output_type": "stream",
     "text": [
      "Total articles: 867\n",
      "How often does Trump misspell words on Twitter? These researchers have an answer\n",
      "Predicted topic: Sci/Tech\n",
      "--------------------\n",
      "By Daniel Gallan, for CNN\n",
      "\n",
      "New Zealand ended its Rugby World Cup campaign on a conciliatory high by beating Wales 40-17 in the third-place playoff match at the International Stadium in Yokohama.\n",
      "Predicted topic: Sports\n",
      "--------------------\n",
      "New Delhi (CNN) Residents of India's capital are set to suffer record-levels of smog for at least a week, even as the local government puts in place emergency measures to try and tackle New Delhi's heavily polluted air.\n",
      "\n",
      "Flights were delayed and diverted from New Delhi's international airport Sunday when pilots could not see through the thick smog, which was more than three times the \"hazardous\" level on the global air quality index (AQI).\n",
      "\n",
      "On Monday, the AQI level remained above 800 in certain \n",
      "Predicted topic: World\n",
      "--------------------\n",
      "London (CNN Business) Saudi Arabia is moving forward with an initial public offering of its huge state oil producer that could shatter records and give investors the chance to own a piece of the world's most profitable company.\n",
      "\n",
      "Following approval from the country's regulators, Saudi Aramco on Sunday formally announced its intention to float shares on the Tadawul exchange in Riyadh. Aramco executives will now embark on an international roadshow to court investors, and a prospectus outlining the \n",
      "Predicted topic: Business\n",
      "--------------------\n",
      "Beijing (CNN) — When 29-year-old Wang Jianguang was growing up in a poor neighborhood in China's northern Shanxi province, his family would buy him chicken wings with soy sauce as a rare treat.\n",
      "\n",
      "Except they weren't actually made of chicken. The wings were an intricate combination of soybeans and peanuts. \"They looked just like chicken wings, though,\" Wang said.\n",
      "\n",
      "It was his first encounter with China's centuries-old tradition of imitation meat dishes.\n",
      "\n",
      "A vegetarian sweet and sour \"pork\" dish at G\n",
      "Predicted topic: World\n",
      "--------------------\n",
      "(CNN) Authorities in China have approved a drug for the treatment of Alzheimer's disease, the first new medicine with the potential to treat the cognitive disorder in 17 years.\n",
      "\n",
      "The seaweed-based drug, called Oligomannate, can be used for the treatment of mild to moderate Alzheimer's, according to a statement from China's drug safety agency. The approval is conditional however, meaning that while it can go on sale during additional clinical trials, it will be strictly monitored and could be with\n",
      "Predicted topic: Business\n",
      "--------------------\n",
      "(CNN) Yvette Lundy, a heroine of the French Resistance during World War II, died Sunday at the age of 103.\n",
      "\n",
      "Lundy joined the Resistance at the beginning of the Nazi occupation of France and survived spells in two concentration camps in Germany, according to a statement from the office of President Emmanuel Macron released Monday.\n",
      "\n",
      "After the war, she returned to France and spent most of her life speaking to young people about her experiences, calling for \"peace and brotherhood,\" according to the \n",
      "Predicted topic: World\n",
      "--------------------\n",
      "Athens, Greece (CNN) Police have found 41 people alive in the back of a refrigerated truck during a routine highway check in northern Greece, officials said Monday.\n",
      "\n",
      "The refrigeration system had not been turned on and the migrants, all men and boys, were uninjured, Theodoros Hronopoulos, a police spokesman, told CNN.\n",
      "\n",
      "A small number of the migrants were taken to a nearby hospital for precautionary reasons, while the rest were taken directly to a nearby police station for identification.\n",
      "\n",
      "A Georg\n",
      "Predicted topic: World\n",
      "--------------------\n",
      "(CNN) Veteran Irish broadcaster Gay Byrne has died aged 85, his longtime employer RTÉ announced on Monday.\n",
      "\n",
      "The network said Byrne, who hosted \"The Late Late Show\" for almost four decades and presented a morning show on Irish radio until 1999, had been ill \"for some time.\n",
      "\n",
      "In a statement to RTÉ, his family said: \"It is with sadness that Kathleen, Crona and Suzy wish to announce that their beloved Gay has died peacefully at home today, surrounded by his family.\n",
      "\n",
      "\"We wish to thank everybody for th\n",
      "Predicted topic: World\n",
      "--------------------\n",
      "Beirut, Lebanon (CNN) For weeks, loud and angry demands reverberated across Iraq and Lebanon , rattling their political leadership. Elites publicly acknowledged the popular indictment against them, and serious political concessions appeared inevitable. It signaled a shaking up of the powers that be that would've been unimaginable even a month ago.\n",
      "\n",
      "Then, in the span of just three days this week, governments in Iraq and Lebanon have agreed to resign . Protesters have rejoiced, but many also recog\n",
      "Predicted topic: World\n",
      "--------------------\n"
     ]
    }
   ],
   "source": [
    "# pip install newspaper3k\n",
    "# adapted from docs and examples: https://github.com/codelucas/newspaper\n",
    "\n",
    "import newspaper\n",
    "from autokeras_pretrained.text_classifier import TopicClassifier\n",
    "\n",
    "topic_classifier = TopicClassifier()\n",
    "cnn = newspaper.build('https://edition.cnn.com/', \n",
    "                      memoize_articles=False)\n",
    "print('Total articles:', len(cnn.articles))\n",
    "for article in cnn.articles[:10]:\n",
    "    try:\n",
    "        article.download()\n",
    "        article.parse()\n",
    "        text = article.text[:500]\n",
    "        print(text)\n",
    "        print('Predicted topic:', topic_classifier.predict(text))\n",
    "        print('-' * 20)\n",
    "    except:\n",
    "        pass"
   ]
  },
  {
   "cell_type": "markdown",
   "metadata": {},
   "source": [
    "### 7.4. Our own Auto-Keras model for topic classification"
   ]
  },
  {
   "cell_type": "code",
   "execution_count": 8,
   "metadata": {},
   "outputs": [
    {
     "name": "stdout",
     "output_type": "stream",
     "text": [
      "Downloaded articles: 453\n"
     ]
    }
   ],
   "source": [
    "import newspaper\n",
    "from autokeras_pretrained.text_classifier import TopicClassifier\n",
    "\n",
    "topic_classifier = TopicClassifier()\n",
    "cnn = newspaper.build('https://edition.cnn.com/', \n",
    "                      memoize_articles=False)\n",
    "\n",
    "articles = []\n",
    "topics = []\n",
    "for article in cnn.articles[:500]:\n",
    "    try:\n",
    "        article.download()\n",
    "        article.parse()\n",
    "        text = article.text[:500]\n",
    "        articles.append(text)\n",
    "        topics.append(topic_classifier.predict(text))\n",
    "    except:\n",
    "        pass\n",
    "    \n",
    "print('Downloaded articles:', len(articles))"
   ]
  },
  {
   "cell_type": "code",
   "execution_count": 13,
   "metadata": {},
   "outputs": [
    {
     "name": "stderr",
     "output_type": "stream",
     "text": [
      "Epoch:   0%|          | 0/4 [00:00<?, ?it/s]\n",
      "Iteration:   0%|          | 0/13 [00:00<?, ?it/s]\u001b[A"
     ]
    },
    {
     "name": "stdout",
     "output_type": "stream",
     "text": [
      "***** Running training *****\n",
      "Num examples = %d 400\n",
      "Batch size = %d 32\n",
      "Num steps = %d 50\n"
     ]
    },
    {
     "name": "stderr",
     "output_type": "stream",
     "text": [
      "\n",
      "Iteration:   8%|▊         | 1/13 [00:08<01:46,  8.86s/it]\u001b[A\n",
      "Iteration:  15%|█▌        | 2/13 [00:17<01:35,  8.67s/it]\u001b[A\n",
      "Iteration:  23%|██▎       | 3/13 [00:25<01:25,  8.55s/it]\u001b[A\n",
      "Iteration:  31%|███       | 4/13 [00:33<01:16,  8.49s/it]\u001b[A\n",
      "Iteration:  38%|███▊      | 5/13 [00:41<01:07,  8.40s/it]\u001b[A\n",
      "Iteration:  46%|████▌     | 6/13 [00:50<00:59,  8.44s/it]\u001b[A\n",
      "Iteration:  54%|█████▍    | 7/13 [00:58<00:50,  8.35s/it]\u001b[A\n",
      "Iteration:  62%|██████▏   | 8/13 [01:06<00:41,  8.34s/it]\u001b[A\n",
      "Iteration:  69%|██████▉   | 9/13 [01:15<00:33,  8.34s/it]\u001b[A\n",
      "Iteration:  77%|███████▋  | 10/13 [01:23<00:24,  8.32s/it]\u001b[A\n",
      "Iteration:  85%|████████▍ | 11/13 [01:31<00:16,  8.29s/it]\u001b[A\n",
      "Iteration:  92%|█████████▏| 12/13 [01:39<00:08,  8.26s/it]\u001b[A\n",
      "Epoch:  25%|██▌       | 1/4 [01:43<05:11, 103.94s/it]s/it]\u001b[A\n",
      "Iteration:   0%|          | 0/13 [00:00<?, ?it/s]\u001b[A\n",
      "Iteration:   8%|▊         | 1/13 [00:08<01:40,  8.38s/it]\u001b[A\n",
      "Iteration:  15%|█▌        | 2/13 [00:16<01:32,  8.40s/it]\u001b[A\n",
      "Iteration:  23%|██▎       | 3/13 [00:25<01:24,  8.42s/it]\u001b[A\n",
      "Iteration:  31%|███       | 4/13 [00:33<01:15,  8.40s/it]\u001b[A\n",
      "Iteration:  38%|███▊      | 5/13 [00:42<01:07,  8.39s/it]\u001b[A\n",
      "Iteration:  46%|████▌     | 6/13 [00:50<00:58,  8.41s/it]\u001b[A\n",
      "Iteration:  54%|█████▍    | 7/13 [00:58<00:50,  8.35s/it]\u001b[A\n",
      "Iteration:  62%|██████▏   | 8/13 [01:07<00:41,  8.37s/it]\u001b[A\n",
      "Iteration:  69%|██████▉   | 9/13 [01:15<00:33,  8.37s/it]\u001b[A\n",
      "Iteration:  77%|███████▋  | 10/13 [01:23<00:25,  8.38s/it]\u001b[A\n",
      "Iteration:  85%|████████▍ | 11/13 [01:32<00:16,  8.34s/it]\u001b[A\n",
      "Iteration:  92%|█████████▏| 12/13 [01:40<00:08,  8.34s/it]\u001b[A\n",
      "Epoch:  50%|█████     | 2/4 [03:28<03:28, 104.13s/it]s/it]\u001b[A\n",
      "Iteration:   0%|          | 0/13 [00:00<?, ?it/s]\u001b[A\n",
      "Iteration:   8%|▊         | 1/13 [00:08<01:39,  8.26s/it]\u001b[A\n",
      "Iteration:  15%|█▌        | 2/13 [00:16<01:31,  8.32s/it]\u001b[A\n",
      "Iteration:  23%|██▎       | 3/13 [00:24<01:22,  8.30s/it]\u001b[A\n",
      "Iteration:  31%|███       | 4/13 [00:33<01:14,  8.32s/it]\u001b[A\n",
      "Iteration:  38%|███▊      | 5/13 [00:41<01:06,  8.31s/it]\u001b[A\n",
      "Iteration:  46%|████▌     | 6/13 [00:50<00:58,  8.37s/it]\u001b[A\n",
      "Iteration:  54%|█████▍    | 7/13 [00:58<00:50,  8.35s/it]\u001b[A\n",
      "Iteration:  62%|██████▏   | 8/13 [01:06<00:41,  8.34s/it]\u001b[A\n",
      "Iteration:  69%|██████▉   | 9/13 [01:14<00:33,  8.31s/it]\u001b[A\n",
      "Iteration:  77%|███████▋  | 10/13 [01:23<00:24,  8.30s/it]\u001b[A\n",
      "Iteration:  85%|████████▍ | 11/13 [01:31<00:16,  8.28s/it]\u001b[A\n",
      "Iteration:  92%|█████████▏| 12/13 [01:39<00:08,  8.28s/it]\u001b[A\n",
      "Epoch:  75%|███████▌  | 3/4 [05:12<01:44, 104.06s/it]s/it]\u001b[A\n",
      "Iteration:   0%|          | 0/13 [00:00<?, ?it/s]\u001b[A\n",
      "Iteration:   8%|▊         | 1/13 [00:08<01:37,  8.14s/it]\u001b[A\n",
      "Iteration:  15%|█▌        | 2/13 [00:16<01:30,  8.19s/it]\u001b[A\n",
      "Iteration:  23%|██▎       | 3/13 [00:24<01:22,  8.23s/it]\u001b[A\n",
      "Iteration:  31%|███       | 4/13 [00:32<01:13,  8.20s/it]\u001b[A\n",
      "Iteration:  38%|███▊      | 5/13 [00:41<01:05,  8.22s/it]\u001b[A\n",
      "Iteration:  46%|████▌     | 6/13 [00:49<00:57,  8.27s/it]\u001b[A\n",
      "Iteration:  54%|█████▍    | 7/13 [00:57<00:49,  8.27s/it]\u001b[A\n",
      "Iteration:  62%|██████▏   | 8/13 [01:06<00:41,  8.29s/it]\u001b[A\n",
      "Iteration:  69%|██████▉   | 9/13 [01:14<00:33,  8.25s/it]\u001b[A\n",
      "Iteration:  77%|███████▋  | 10/13 [01:22<00:24,  8.27s/it]\u001b[A\n",
      "Iteration:  85%|████████▍ | 11/13 [01:30<00:16,  8.27s/it]\u001b[A\n",
      "Iteration:  92%|█████████▏| 12/13 [01:39<00:08,  8.26s/it]\u001b[A\n",
      "Epoch: 100%|██████████| 4/4 [06:55<00:00, 103.82s/it]s/it]\u001b[A\n"
     ]
    },
    {
     "name": "stdout",
     "output_type": "stream",
     "text": [
      "Training loss = %d 1.4466414526104927\n",
      "***** Running evaluation *****\n",
      "  Num examples = %d 53\n",
      "  Batch size = %d 32\n",
      "0.9056603773584906\n"
     ]
    }
   ],
   "source": [
    "from autokeras import TextClassifier\n",
    "import numpy as np\n",
    "from autokeras.preprocessor import OneHotEncoder\n",
    "\n",
    "def to_one_hot(y):\n",
    "    y_encoder = OneHotEncoder()\n",
    "    y_encoder.fit(y)\n",
    "    y = y_encoder.transform(y)\n",
    "    return y, y_encoder\n",
    "\n",
    "n_train = 400\n",
    "x_train, y_train, x_test, y_test = articles[:n_train], topics[:n_train], \\\n",
    "                                   articles[n_train:], topics[n_train:]\n",
    "\n",
    "y_train, encoder = to_one_hot(y_train)\n",
    "y_test = encoder.transform(y_test)\n",
    "\n",
    "clf = TextClassifier(verbose=True)\n",
    "clf.fit(x=x_train, y=y_train, time_limit=20 * 60)\n",
    "results = clf.evaluate(x_test, y_test)\n",
    "print(results)"
   ]
  },
  {
   "cell_type": "code",
   "execution_count": null,
   "metadata": {},
   "outputs": [],
   "source": []
  }
 ],
 "metadata": {
  "kernelspec": {
   "display_name": "Python 3",
   "language": "python",
   "name": "python3"
  },
  "language_info": {
   "codemirror_mode": {
    "name": "ipython",
    "version": 3
   },
   "file_extension": ".py",
   "mimetype": "text/x-python",
   "name": "python",
   "nbconvert_exporter": "python",
   "pygments_lexer": "ipython3",
   "version": "3.6.9"
  }
 },
 "nbformat": 4,
 "nbformat_minor": 2
}
